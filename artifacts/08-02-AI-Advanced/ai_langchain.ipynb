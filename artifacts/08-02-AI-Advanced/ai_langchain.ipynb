{
 "cells": [
  {
   "cell_type": "code",
   "execution_count": null,
   "metadata": {},
   "outputs": [],
   "source": [
    "!pip install langchain \n",
    "!pip install openai \n",
    "!pip install python-environ \n",
    "!pip install psycopg2 "
   ]
  },
  {
   "cell_type": "code",
   "execution_count": null,
   "metadata": {},
   "outputs": [],
   "source": [
    "import psycopg2"
   ]
  },
  {
   "cell_type": "code",
   "execution_count": null,
   "metadata": {},
   "outputs": [],
   "source": [
    "username = 'wsuser'\n",
    "password = 'Solliance123'\n",
    "host = 'pgsqldevilkdittaflex16.postgres.database.azure.com'\n",
    "port = '5432'\n",
    "dbname = 'ailabs'\n",
    "\n",
    "connection_string = f'postgresql+psycopg2://{username}:{password}@{host}:{port}/{dbname}'\n",
    "\n",
    "# Establish a connection to the PostgreSQL database\n",
    "conn = psycopg2.connect(\n",
    "    host=host,\n",
    "    port=5432,\n",
    "    user=username,\n",
    "    password=password,\n",
    "    database=dbname\n",
    ")"
   ]
  },
  {
   "cell_type": "code",
   "execution_count": null,
   "metadata": {},
   "outputs": [],
   "source": [
    "#load the csv data to the database\n",
    "import pandas as pd\n",
    "from sqlalchemy import create_engine\n",
    "\n",
    "db_engine = create_engine(connection_string)"
   ]
  },
  {
   "cell_type": "code",
   "execution_count": null,
   "metadata": {},
   "outputs": [],
   "source": [
    "df = pd.read_csv('./data/calendar.csv')\n",
    "df.to_sql('calendar', db_engine, if_exists='replace', index=False)\n",
    "\n",
    "df = pd.read_csv('./data/listings.csv')\n",
    "df.to_sql('listings', db_engine, if_exists='replace', index=False)\n",
    "\n",
    "df = pd.read_csv('./data/reviews.csv')\n",
    "df.to_sql('reviews', db_engine, if_exists='replace', index=False)"
   ]
  },
  {
   "cell_type": "code",
   "execution_count": null,
   "metadata": {},
   "outputs": [],
   "source": [
    "from langchain.chat_models import AzureChatOpenAI\n",
    "\n",
    "azure_endpoint = \"YOUR_ENDPOINT\"\n",
    "azure_key = 'YOUR_KEY'\n",
    "\n",
    "llm=AzureChatOpenAI(\n",
    "    temperature=0,\n",
    "    openai_api_key =azure_key,\n",
    "    openai_api_base = azure_endpoint,\n",
    "    openai_api_version=\"2023-03-15-preview\",\n",
    "    openai_api_type=\"azure\",\n",
    "    model_name=\"gpt4\",\n",
    "    deployment_name=\"completions4\"\n",
    ")"
   ]
  },
  {
   "cell_type": "code",
   "execution_count": null,
   "metadata": {},
   "outputs": [],
   "source": [
    "def handle_parsing_errors():\n",
    "    pass"
   ]
  },
  {
   "cell_type": "code",
   "execution_count": null,
   "metadata": {},
   "outputs": [],
   "source": [
    "from langchain_experimental.sql.base import SQLDatabaseChain\n",
    "#from langchain_experimental.sql.base.sql_database import SQLDatabase\n",
    "from langchain.agents.agent_toolkits import SQLDatabaseToolkit\n",
    "from langchain.agents import create_sql_agent\n",
    "from langchain.callbacks import get_openai_callback\n",
    "\n",
    "from langchain import SQLDatabase\n",
    "\n",
    "db = SQLDatabase.from_uri(connection_string)\n",
    "\n",
    "toolkit = SQLDatabaseToolkit(db=db, llm=llm)\n",
    "\n",
    "agent_executor = create_sql_agent(\n",
    "    llm=llm,\n",
    "    toolkit=toolkit,\n",
    "    verbose=True,\n",
    "    handle_parsing_errors=handle_parsing_errors\n",
    ")\n",
    "\n",
    "# Create db chain\n",
    "QUERY = \"\"\"\n",
    "Given an input question, first create a syntactically correct postgresql query to run, then look at the results of the query and return the answer.\n",
    "Use the following format:\n",
    "\n",
    "\"Question\": \"Question here\"\n",
    "\"SQLQuery\": \"SQL Query to run\"\n",
    "\"SQLResult\": \"Result of the SQLQuery\"\n",
    "\"Answer\": \"Final answer here\"\n",
    "\n",
    "\"{question}\"\n",
    "\"\"\"\n",
    "\n",
    "question_text = \"What are the details of the rental that is closest to the Space Needle?\"\n",
    "\n",
    "question = QUERY.format(question=question_text)\n",
    "\n",
    "with get_openai_callback() as cb:\n",
    "    res = agent_executor.run(question)"
   ]
  },
  {
   "cell_type": "code",
   "execution_count": 35,
   "metadata": {},
   "outputs": [
    {
     "name": "stdout",
     "output_type": "stream",
     "text": [
      "\"Question\": \"Which rental is closest to the Space Needle and what is its address?\"\n",
      "\"SQLQuery\": \"SELECT id, street, latitude, longitude FROM listings ORDER BY ((latitude-47.6205)*(latitude-47.6205) + (longitude+122.3493)*(longitude+122.3493)) ASC LIMIT 10;\"\n",
      "\"SQLResult\": \"[(6613601, '5th Avenue North, Seattle, WA 98109, United States', 47.61907155891863, -122.34779881165326), ...]\"\n",
      "\"Answer\": \"The closest rental to the Space Needle is located at 5th Avenue North, Seattle, WA 98109, United States.\"\n"
     ]
    }
   ],
   "source": [
    "print(res)"
   ]
  }
 ],
 "metadata": {
  "kernelspec": {
   "display_name": "Python 3",
   "language": "python",
   "name": "python3"
  },
  "language_info": {
   "codemirror_mode": {
    "name": "ipython",
    "version": 3
   },
   "file_extension": ".py",
   "mimetype": "text/x-python",
   "name": "python",
   "nbconvert_exporter": "python",
   "pygments_lexer": "ipython3",
   "version": "3.10.2"
  }
 },
 "nbformat": 4,
 "nbformat_minor": 2
}
