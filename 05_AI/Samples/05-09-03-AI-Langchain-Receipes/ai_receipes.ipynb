{
 "cells": [
  {
   "cell_type": "markdown",
   "metadata": {},
   "source": [
    "Import the modules, create a database connection."
   ]
  },
  {
   "cell_type": "code",
   "execution_count": null,
   "metadata": {},
   "outputs": [],
   "source": [
    "#import the receipes to the database from xml file\n",
    "\n",
    "import psycopg2\n",
    "import xml.etree.ElementTree as ET\n",
    "\n",
    "#connect to the database\n",
    "username = 'wsuser'\n",
    "password = 'Solliance123'\n",
    "host = 'pgsqldevilkdittaflex16.postgres.database.azure.com'\n",
    "port = '5432'\n",
    "dbname = 'ailabs'\n",
    "\n",
    "dbconn = psycopg2.connect(host=host, user=username, password=password,\n",
    "    port=port, database=dbname , connect_timeout=10)\n",
    "dbconn.set_session(autocommit=True)\n"
   ]
  },
  {
   "cell_type": "markdown",
   "metadata": {},
   "source": [
    "Create the database tables."
   ]
  },
  {
   "cell_type": "code",
   "execution_count": null,
   "metadata": {},
   "outputs": [],
   "source": [
    "#create the tables\n",
    "\n",
    "cur = dbconn.cursor()\n",
    "cur.execute('DROP TABLE IF EXISTS recipes')\n",
    "cur.execute('DROP TABLE IF EXISTS ingredients')\n",
    "cur.execute('DROP TABLE IF EXISTS recipe_ingredients')\n",
    "\n",
    "cur.execute(\"\"\"CREATE TABLE public.ingredients (\n",
    "    id integer NOT NULL,\n",
    "    name text\n",
    ");\n",
    "\"\"\")\n",
    "\n",
    "cur.execute(\"\"\"CREATE TABLE public.recipe_ingredients (\n",
    "    id integer NOT NULL,\n",
    "    recipe_id integer,\n",
    "    ingredient_id integer,\n",
    "    quantity text,\n",
    "    unit_key integer\n",
    ");\n",
    "\"\"\")\n",
    "\n",
    "cur.execute(\"\"\"\n",
    "        CREATE TABLE public.recipes (\n",
    "        id integer NOT NULL,\n",
    "        name text,\n",
    "        description text,\n",
    "        category text,\n",
    "        embedding public.vector(1536),\n",
    "        compacted_embedding public.vector(50),\n",
    "        super_compacted_embedding public.vector(10)\n",
    "    );\n",
    "\"\"\")"
   ]
  },
  {
   "cell_type": "markdown",
   "metadata": {},
   "source": [
    "Import the CSV data."
   ]
  },
  {
   "cell_type": "code",
   "execution_count": null,
   "metadata": {},
   "outputs": [],
   "source": [
    "import pandas as pd\n",
    "#load the table into dataframe\n",
    "def export_data():\n",
    "    df = pd.read_sql_query('SELECT * FROM recipes',con=dbconn)\n",
    "    #output to csv\n",
    "    df.to_csv('recipes.csv', index=False)\n",
    "\n",
    "    df = pd.read_sql_query('SELECT * FROM recipe_ingredients',con=dbconn)\n",
    "    #output to csv\n",
    "    df.to_csv('recipe_ingredients.csv', index=False)\n",
    "\n",
    "    df = pd.read_sql_query('SELECT * FROM ingredients',con=dbconn)\n",
    "    #output to csv\n",
    "    df.to_csv('ingredients.csv', index=False)\n",
    "\n",
    "def import_data():\n",
    "    df = pd.read_csv('recipes.csv')\n",
    "    df.to_sql('recipes', con=dbconn, if_exists='append', index=False)\n",
    "\n",
    "    df = pd.read_csv('recipe_ingredients.csv')\n",
    "    df.to_sql('recipe_ingredients', con=dbconn, if_exists='append', index=False)\n",
    "\n",
    "    df = pd.read_csv('ingredients.csv')\n",
    "    df.to_sql('ingredients', con=dbconn, if_exists='append', index=False)"
   ]
  },
  {
   "cell_type": "markdown",
   "metadata": {},
   "source": [
    "Perform a search for similar items."
   ]
  },
  {
   "cell_type": "code",
   "execution_count": null,
   "metadata": {},
   "outputs": [],
   "source": [
    "#find similar items\n",
    "sql = \"\"\"\n",
    "SELECT\n",
    "        recipe_1.id,\n",
    "        recipe_1.name,\n",
    "        recipe_2.id,\n",
    "        recipe_2.name\n",
    "FROM (SELECT * FROM recipes WHERE name = 'Dish, turkey, curry') recipe_1,\n",
    "        recipes AS recipe_2\n",
    "WHERE recipe_1.id != recipe_2.id\n",
    "ORDER BY recipe_1.embedding <=> recipe_2.embedding\n",
    "LIMIT 10;\n",
    "\"\"\"\n",
    "\n",
    "#execute the query\n",
    "cur = dbconn.cursor()\n",
    "cur.execute(sql)\n",
    "results = cur.fetchall()\n",
    "for row in results:\n",
    "    print(row)\n",
    "\n"
   ]
  },
  {
   "cell_type": "markdown",
   "metadata": {},
   "source": [
    "Perform a search for not similar items."
   ]
  },
  {
   "cell_type": "code",
   "execution_count": 13,
   "metadata": {},
   "outputs": [
    {
     "name": "stdout",
     "output_type": "stream",
     "text": [
      "(165, 'Corn Dog', 538, 'Salad, green, tossed')\n",
      "(165, 'Corn Dog', 519, 'Salad, chicken, tropical')\n"
     ]
    }
   ],
   "source": [
    "#find items that are not similar\n",
    "sql = \"\"\"\n",
    "SELECT\n",
    "        recipe_1.id,\n",
    "        recipe_1.name,\n",
    "        recipe_2.id,\n",
    "        recipe_2.name\n",
    "FROM (SELECT * FROM recipes WHERE name = 'Corn Dog' LIMIT 1) recipe_1,\n",
    "        recipes AS recipe_2\n",
    "WHERE\n",
    "  recipe_2.description IS NOT NULL\n",
    "ORDER BY recipe_1.embedding <=> recipe_2.embedding DESC\n",
    "LIMIT 2;\n",
    "\"\"\"\n",
    "\n",
    "#execute the query\n",
    "cur = dbconn.cursor()\n",
    "cur.execute(sql)\n",
    "results = cur.fetchall()\n",
    "for row in results:\n",
    "    print(row)"
   ]
  }
 ],
 "metadata": {
  "kernelspec": {
   "display_name": "Python 3",
   "language": "python",
   "name": "python3"
  },
  "language_info": {
   "codemirror_mode": {
    "name": "ipython",
    "version": 3
   },
   "file_extension": ".py",
   "mimetype": "text/x-python",
   "name": "python",
   "nbconvert_exporter": "python",
   "pygments_lexer": "ipython3",
   "version": "3.10.2"
  }
 },
 "nbformat": 4,
 "nbformat_minor": 2
}
