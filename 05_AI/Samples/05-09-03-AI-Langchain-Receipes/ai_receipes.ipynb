{
 "cells": [
  {
   "cell_type": "markdown",
   "metadata": {},
   "source": [
    "Import the modules, create a database connection."
   ]
  },
  {
   "cell_type": "code",
   "execution_count": 2,
   "metadata": {},
   "outputs": [],
   "source": [
    "import psycopg2\n",
    "from pgvector.psycopg2 import register_vector\n",
    "import json\n",
    "import skimage\n",
    "import xml.etree.ElementTree as ET"
   ]
  },
  {
   "cell_type": "markdown",
   "metadata": {},
   "source": [
    "## Setup the database connection\n",
    "\n",
    "Set the host to your Azure Database for PostgreSQL instance, be sure to replace the `SUFFIX`."
   ]
  },
  {
   "cell_type": "code",
   "execution_count": 3,
   "metadata": {},
   "outputs": [],
   "source": [
    "#connect to the database\n",
    "username = 'wsuser'\n",
    "password = 'Solliance123'\n",
    "host = 'pgsqldevSUFFIXflex16.postgres.database.azure.com'\n",
    "port = '5432'\n",
    "dbname = 'ailabs'\n",
    "\n",
    "dbconn = psycopg2.connect(host=host, user=username, password=password, port=port, database=dbname , connect_timeout=10)\n",
    "\n",
    "dbconn.set_session(autocommit=True)"
   ]
  },
  {
   "cell_type": "markdown",
   "metadata": {},
   "source": [
    "Enable the vector extension and call register_verctor on the database connection."
   ]
  },
  {
   "cell_type": "code",
   "execution_count": 4,
   "metadata": {},
   "outputs": [],
   "source": [
    "#This will take ~8-10mins to execute...\n",
    "cur = dbconn.cursor()\n",
    "cur.execute(\"CREATE EXTENSION IF NOT EXISTS vector;\")\n",
    "\n",
    "register_vector(dbconn)"
   ]
  },
  {
   "cell_type": "markdown",
   "metadata": {},
   "source": [
    "Create the database tables."
   ]
  },
  {
   "cell_type": "code",
   "execution_count": 15,
   "metadata": {},
   "outputs": [],
   "source": [
    "#create the tables\n",
    "\n",
    "cur = dbconn.cursor()\n",
    "cur.execute('DROP TABLE IF EXISTS recipes')\n",
    "cur.execute('DROP TABLE IF EXISTS ingredients')\n",
    "cur.execute('DROP TABLE IF EXISTS recipe_ingredients')\n",
    "\n",
    "cur.execute(\"\"\"CREATE TABLE public.ingredients (\n",
    "    id integer NOT NULL,\n",
    "    name text\n",
    ");\n",
    "\"\"\")\n",
    "\n",
    "cur.execute(\"\"\"CREATE TABLE public.recipe_ingredients (\n",
    "    id integer NOT NULL,\n",
    "    recipe_id integer,\n",
    "    ingredient_id integer,\n",
    "    quantity text,\n",
    "    unit_key integer\n",
    ");\n",
    "\"\"\")\n",
    "\n",
    "cur.execute(\"\"\"\n",
    "        CREATE TABLE public.recipes (\n",
    "        id integer NOT NULL,\n",
    "        name text,\n",
    "        description text,\n",
    "        category text,\n",
    "        embedding public.vector(1536),\n",
    "        compacted_embedding public.vector(50),\n",
    "        super_compacted_embedding public.vector(10)\n",
    "    );\n",
    "\"\"\")"
   ]
  },
  {
   "cell_type": "markdown",
   "metadata": {},
   "source": [
    "Create the import and export functions."
   ]
  },
  {
   "cell_type": "code",
   "execution_count": 20,
   "metadata": {},
   "outputs": [],
   "source": [
    "import pandas as pd\n",
    "#load the table into dataframe\n",
    "def export_data(engine):\n",
    "    df = pd.read_sql_query('SELECT * FROM recipes',con=engine)\n",
    "    #output to csv\n",
    "    df.to_csv('./data/recipes.csv', index=False)\n",
    "\n",
    "    df = pd.read_sql_query('SELECT * FROM recipe_ingredients',con=engine)\n",
    "    #output to csv\n",
    "    df.to_csv('./data/recipe_ingredients.csv', index=False)\n",
    "\n",
    "    df = pd.read_sql_query('SELECT * FROM ingredients',con=engine)\n",
    "    #output to csv\n",
    "    df.to_csv('./data/ingredients.csv', index=False)\n",
    "\n",
    "def import_data(engine):\n",
    "\n",
    "    df = pd.read_csv('./data/recipe_ingredients.csv')\n",
    "    df.to_sql('recipe_ingredients', con=engine, if_exists='append', index=False)\n",
    "\n",
    "    df = pd.read_csv('./data/ingredients.csv')\n",
    "    df.to_sql('ingredients', con=engine, if_exists='append', index=False)\n",
    "\n",
    "    df = pd.read_csv('./data/recipes.csv')\n",
    "    df.to_sql('recipes', con=engine, if_exists='append', index=False)"
   ]
  },
  {
   "cell_type": "markdown",
   "metadata": {},
   "source": [
    "Create a SQL Alchemy engine for the import/export."
   ]
  },
  {
   "cell_type": "code",
   "execution_count": 21,
   "metadata": {},
   "outputs": [],
   "source": [
    "from sqlalchemy import create_engine\n",
    "engine = create_engine(f'postgresql://{username}:{password}@{host}:{port}/{dbname}')\n",
    "import_data(engine)"
   ]
  },
  {
   "cell_type": "markdown",
   "metadata": {},
   "source": [
    "Perform a search for similar items as `dish, turkey, curry`."
   ]
  },
  {
   "cell_type": "code",
   "execution_count": 22,
   "metadata": {},
   "outputs": [
    {
     "name": "stdout",
     "output_type": "stream",
     "text": [
      "(272, 'Dish, turkey, curry', 271, 'Dish, turkey & noodles, baked')\n",
      "(272, 'Dish, turkey, curry', 251, 'Dish, pot pie, turkey')\n",
      "(272, 'Dish, turkey, curry', 675, 'Soup, tomato')\n",
      "(272, 'Dish, turkey, curry', 659, 'Soup, chicken rice')\n",
      "(272, 'Dish, turkey, curry', 672, 'Soup, rice w/beef')\n",
      "(272, 'Dish, turkey, curry', 660, 'Soup, chicken vegetable/Mulligatawny')\n",
      "(272, 'Dish, turkey, curry', 199, 'Dish, chicken, a la king')\n",
      "(272, 'Dish, turkey, curry', 38, 'Beef, simmered')\n",
      "(272, 'Dish, turkey, curry', 689, 'Stuffing, savory bread')\n",
      "(272, 'Dish, turkey, curry', 686, 'Stew, beef chunks, w/juices & veg, cnd')\n"
     ]
    }
   ],
   "source": [
    "#find similar items\n",
    "sql = \"\"\"\n",
    "SELECT\n",
    "        recipe_1.id,\n",
    "        recipe_1.name,\n",
    "        recipe_2.id,\n",
    "        recipe_2.name\n",
    "FROM (SELECT * FROM recipes WHERE name = 'Dish, turkey, curry') recipe_1,\n",
    "        recipes AS recipe_2\n",
    "WHERE recipe_1.id != recipe_2.id\n",
    "ORDER BY recipe_1.embedding <=> recipe_2.embedding\n",
    "LIMIT 10;\n",
    "\"\"\"\n",
    "\n",
    "#execute the query\n",
    "cur = dbconn.cursor()\n",
    "cur.execute(sql)\n",
    "results = cur.fetchall()\n",
    "for row in results:\n",
    "    print(row)"
   ]
  },
  {
   "cell_type": "markdown",
   "metadata": {},
   "source": [
    "Perform a search for items that do not seem to be similar to a `corn dog`."
   ]
  },
  {
   "cell_type": "code",
   "execution_count": 23,
   "metadata": {},
   "outputs": [
    {
     "name": "stdout",
     "output_type": "stream",
     "text": [
      "(165, 'Corn Dog', 538, 'Salad, green, tossed')\n",
      "(165, 'Corn Dog', 519, 'Salad, chicken, tropical')\n"
     ]
    }
   ],
   "source": [
    "#find items that are not similar\n",
    "sql = \"\"\"\n",
    "SELECT\n",
    "        recipe_1.id,\n",
    "        recipe_1.name,\n",
    "        recipe_2.id,\n",
    "        recipe_2.name\n",
    "FROM (SELECT * FROM recipes WHERE name = 'Corn Dog' LIMIT 1) recipe_1,\n",
    "        recipes AS recipe_2\n",
    "WHERE\n",
    "  recipe_2.description IS NOT NULL\n",
    "ORDER BY recipe_1.embedding <=> recipe_2.embedding DESC\n",
    "LIMIT 2;\n",
    "\"\"\"\n",
    "\n",
    "#execute the query\n",
    "cur = dbconn.cursor()\n",
    "cur.execute(sql)\n",
    "results = cur.fetchall()\n",
    "for row in results:\n",
    "    print(row)"
   ]
  }
 ],
 "metadata": {
  "kernelspec": {
   "display_name": "Python 3",
   "language": "python",
   "name": "python3"
  },
  "language_info": {
   "codemirror_mode": {
    "name": "ipython",
    "version": 3
   },
   "file_extension": ".py",
   "mimetype": "text/x-python",
   "name": "python",
   "nbconvert_exporter": "python",
   "pygments_lexer": "ipython3",
   "version": "3.11.8"
  }
 },
 "nbformat": 4,
 "nbformat_minor": 2
}
